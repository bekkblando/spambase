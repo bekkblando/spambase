{
 "cells": [
  {
   "cell_type": "code",
   "execution_count": 1,
   "metadata": {
    "collapsed": false
   },
   "outputs": [],
   "source": [
    "import pandas as pd\n",
    "import numpy as np\n",
    "import matplotlib.pyplot as plt\n",
    "from sklearn.feature_extraction.text import CountVectorizer\n",
    "from sklearn.cross_validation import train_test_split"
   ]
  },
  {
   "cell_type": "code",
   "execution_count": 2,
   "metadata": {
    "collapsed": true
   },
   "outputs": [],
   "source": [
    "%matplotlib inline"
   ]
  },
  {
   "cell_type": "code",
   "execution_count": 3,
   "metadata": {
    "collapsed": false,
    "scrolled": false
   },
   "outputs": [
    {
     "name": "stdout",
     "output_type": "stream",
     "text": [
      "      0  0.64  0.64.1  0.1  0.32  0.2  0.3  0.4  0.5   0.6 ...   0.40   0.41  \\\n",
      "1812  0     0       0    0     0    0    0    0    0  0.00 ...  0.022  0.022   \n",
      "1813  0     0       0    0     0    0    0    0    0  0.85 ...  0.299  0.000   \n",
      "1814  0     0       0    0     0    0    0    0    0  0.00 ...  0.000  0.000   \n",
      "1815  0     0       0    0     0    0    0    0    0  0.00 ...  0.000  0.131   \n",
      "1816  0     0       0    0     0    0    0    0    0  0.00 ...  0.000  0.104   \n",
      "\n",
      "       0.42  0.778   0.43   0.44  3.756  61   278  1  \n",
      "1812  0.019  0.022  0.022  0.022  3.482   5  5902  0  \n",
      "1813  0.000  0.149  0.000  0.000  1.040   2    26  0  \n",
      "1814  0.000  0.000  0.000  0.000  1.000   1     3  0  \n",
      "1815  0.000  0.262  0.000  0.000  1.625   7    65  0  \n",
      "1816  0.324  0.000  0.000  0.011  4.411  28  1866  0  \n",
      "\n",
      "[5 rows x 58 columns]\n"
     ]
    }
   ],
   "source": [
    "spam = pd.read_csv(\"spambase.data\")\n",
    "spam.head()\n",
    "spam.columns\n",
    "isspam = spam[spam['1'] == 1]\n",
    "notspam = spam[spam['1'] == 0]\n",
    "print(notspam.head())"
   ]
  },
  {
   "cell_type": "code",
   "execution_count": 4,
   "metadata": {
    "collapsed": false,
    "scrolled": true
   },
   "outputs": [],
   "source": [
    "spam_train, spam_test = train_test_split(spam, test_size = .40)"
   ]
  },
  {
   "cell_type": "code",
   "execution_count": 5,
   "metadata": {
    "collapsed": true
   },
   "outputs": [],
   "source": [
    "spam_test\n",
    "input_data_test = spam_test.ix[:,'0':\"278\"]\n",
    "testing = spam_test[['1']]"
   ]
  },
  {
   "cell_type": "code",
   "execution_count": 6,
   "metadata": {
    "collapsed": false,
    "scrolled": true
   },
   "outputs": [],
   "source": [
    "input_data = spam_train.ix[:,'0':\"278\"]\n",
    "training = spam_train[['1']]"
   ]
  },
  {
   "cell_type": "code",
   "execution_count": 7,
   "metadata": {
    "collapsed": false
   },
   "outputs": [
    {
     "name": "stderr",
     "output_type": "stream",
     "text": [
      "/Users/BekkBlando/asd/lib/python3.4/site-packages/sklearn/utils/validation.py:449: DataConversionWarning: A column-vector y was passed when a 1d array was expected. Please change the shape of y to (n_samples, ), for example using ravel().\n",
      "  y = column_or_1d(y, warn=True)\n"
     ]
    },
    {
     "data": {
      "text/plain": [
       "0.7847826086956522"
      ]
     },
     "execution_count": 7,
     "metadata": {},
     "output_type": "execute_result"
    }
   ],
   "source": [
    "from sklearn.naive_bayes import MultinomialNB\n",
    "classifier = MultinomialNB()\n",
    "classifier.fit(input_data, training)\n",
    "classifier.score(input_data_test, testing)"
   ]
  },
  {
   "cell_type": "code",
   "execution_count": null,
   "metadata": {
    "collapsed": true
   },
   "outputs": [],
   "source": []
  }
 ],
 "metadata": {
  "kernelspec": {
   "display_name": "Python 3",
   "language": "python",
   "name": "python3"
  },
  "language_info": {
   "codemirror_mode": {
    "name": "ipython",
    "version": 3
   },
   "file_extension": ".py",
   "mimetype": "text/x-python",
   "name": "python",
   "nbconvert_exporter": "python",
   "pygments_lexer": "ipython3",
   "version": "3.4.3"
  }
 },
 "nbformat": 4,
 "nbformat_minor": 0
}
